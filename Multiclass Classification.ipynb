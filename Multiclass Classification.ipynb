{
 "cells": [
  {
   "cell_type": "code",
   "execution_count": 1,
   "metadata": {},
   "outputs": [],
   "source": [
    "import pandas as pd"
   ]
  },
  {
   "cell_type": "code",
   "execution_count": 2,
   "metadata": {},
   "outputs": [],
   "source": [
    "train = pd.read_csv(\"train.csv\")\n",
    "test = pd.read_csv(\"test.csv\")\n",
    "train.rename(columns={'Unnamed: 0': 'ID'}, inplace=True)\n",
    "test.rename(columns={'Unnamed: 0': 'ID'}, inplace=True)\n",
    "submission = test[[\"ID\"]]"
   ]
  },
  {
   "cell_type": "code",
   "execution_count": 3,
   "metadata": {},
   "outputs": [
    {
     "data": {
      "text/html": [
       "<div>\n",
       "<style scoped>\n",
       "    .dataframe tbody tr th:only-of-type {\n",
       "        vertical-align: middle;\n",
       "    }\n",
       "\n",
       "    .dataframe tbody tr th {\n",
       "        vertical-align: top;\n",
       "    }\n",
       "\n",
       "    .dataframe thead th {\n",
       "        text-align: right;\n",
       "    }\n",
       "</style>\n",
       "<table border=\"1\" class=\"dataframe\">\n",
       "  <thead>\n",
       "    <tr style=\"text-align: right;\">\n",
       "      <th></th>\n",
       "      <th>ID</th>\n",
       "      <th>type</th>\n",
       "      <th>time</th>\n",
       "      <th>dayofweek</th>\n",
       "      <th>models</th>\n",
       "      <th>params</th>\n",
       "      <th>queuelen</th>\n",
       "      <th>trials</th>\n",
       "      <th>duration</th>\n",
       "    </tr>\n",
       "  </thead>\n",
       "  <tbody>\n",
       "    <tr>\n",
       "      <th>0</th>\n",
       "      <td>1178</td>\n",
       "      <td>9.0</td>\n",
       "      <td>0.413889</td>\n",
       "      <td>3.0</td>\n",
       "      <td>21.0</td>\n",
       "      <td>535.0</td>\n",
       "      <td>0.0</td>\n",
       "      <td>40.0</td>\n",
       "      <td>0.0</td>\n",
       "    </tr>\n",
       "    <tr>\n",
       "      <th>1</th>\n",
       "      <td>877</td>\n",
       "      <td>9.0</td>\n",
       "      <td>0.643056</td>\n",
       "      <td>5.0</td>\n",
       "      <td>9.0</td>\n",
       "      <td>2682.0</td>\n",
       "      <td>0.0</td>\n",
       "      <td>40.0</td>\n",
       "      <td>0.0</td>\n",
       "    </tr>\n",
       "    <tr>\n",
       "      <th>2</th>\n",
       "      <td>4233</td>\n",
       "      <td>13.0</td>\n",
       "      <td>0.607639</td>\n",
       "      <td>4.0</td>\n",
       "      <td>32.0</td>\n",
       "      <td>3305.0</td>\n",
       "      <td>0.0</td>\n",
       "      <td>40.0</td>\n",
       "      <td>0.0</td>\n",
       "    </tr>\n",
       "    <tr>\n",
       "      <th>3</th>\n",
       "      <td>4134</td>\n",
       "      <td>8.0</td>\n",
       "      <td>0.643750</td>\n",
       "      <td>4.0</td>\n",
       "      <td>3.0</td>\n",
       "      <td>22023.0</td>\n",
       "      <td>0.0</td>\n",
       "      <td>40.0</td>\n",
       "      <td>0.0</td>\n",
       "    </tr>\n",
       "    <tr>\n",
       "      <th>4</th>\n",
       "      <td>3598</td>\n",
       "      <td>12.0</td>\n",
       "      <td>0.519444</td>\n",
       "      <td>3.0</td>\n",
       "      <td>8.0</td>\n",
       "      <td>3707.0</td>\n",
       "      <td>0.0</td>\n",
       "      <td>40.0</td>\n",
       "      <td>0.0</td>\n",
       "    </tr>\n",
       "  </tbody>\n",
       "</table>\n",
       "</div>"
      ],
      "text/plain": [
       "     ID  type      time  dayofweek  models   params  queuelen  trials  \\\n",
       "0  1178   9.0  0.413889        3.0    21.0    535.0       0.0    40.0   \n",
       "1   877   9.0  0.643056        5.0     9.0   2682.0       0.0    40.0   \n",
       "2  4233  13.0  0.607639        4.0    32.0   3305.0       0.0    40.0   \n",
       "3  4134   8.0  0.643750        4.0     3.0  22023.0       0.0    40.0   \n",
       "4  3598  12.0  0.519444        3.0     8.0   3707.0       0.0    40.0   \n",
       "\n",
       "   duration  \n",
       "0       0.0  \n",
       "1       0.0  \n",
       "2       0.0  \n",
       "3       0.0  \n",
       "4       0.0  "
      ]
     },
     "execution_count": 3,
     "metadata": {},
     "output_type": "execute_result"
    }
   ],
   "source": [
    "train.head()"
   ]
  },
  {
   "cell_type": "code",
   "execution_count": 4,
   "metadata": {},
   "outputs": [
    {
     "data": {
      "text/html": [
       "<div>\n",
       "<style scoped>\n",
       "    .dataframe tbody tr th:only-of-type {\n",
       "        vertical-align: middle;\n",
       "    }\n",
       "\n",
       "    .dataframe tbody tr th {\n",
       "        vertical-align: top;\n",
       "    }\n",
       "\n",
       "    .dataframe thead th {\n",
       "        text-align: right;\n",
       "    }\n",
       "</style>\n",
       "<table border=\"1\" class=\"dataframe\">\n",
       "  <thead>\n",
       "    <tr style=\"text-align: right;\">\n",
       "      <th></th>\n",
       "      <th>ID</th>\n",
       "      <th>type</th>\n",
       "      <th>time</th>\n",
       "      <th>dayofweek</th>\n",
       "      <th>models</th>\n",
       "      <th>params</th>\n",
       "      <th>queuelen</th>\n",
       "      <th>trials</th>\n",
       "    </tr>\n",
       "  </thead>\n",
       "  <tbody>\n",
       "    <tr>\n",
       "      <th>0</th>\n",
       "      <td>2439</td>\n",
       "      <td>NaN</td>\n",
       "      <td>0.590972</td>\n",
       "      <td>2.0</td>\n",
       "      <td>13.0</td>\n",
       "      <td>4615.0</td>\n",
       "      <td>0.0</td>\n",
       "      <td>40.0</td>\n",
       "    </tr>\n",
       "    <tr>\n",
       "      <th>1</th>\n",
       "      <td>1213</td>\n",
       "      <td>9.0</td>\n",
       "      <td>0.545833</td>\n",
       "      <td>7.0</td>\n",
       "      <td>33.0</td>\n",
       "      <td>552.0</td>\n",
       "      <td>0.0</td>\n",
       "      <td>40.0</td>\n",
       "    </tr>\n",
       "    <tr>\n",
       "      <th>2</th>\n",
       "      <td>2659</td>\n",
       "      <td>14.0</td>\n",
       "      <td>0.510417</td>\n",
       "      <td>3.0</td>\n",
       "      <td>2.0</td>\n",
       "      <td>2890.0</td>\n",
       "      <td>0.0</td>\n",
       "      <td>40.0</td>\n",
       "    </tr>\n",
       "    <tr>\n",
       "      <th>3</th>\n",
       "      <td>17</td>\n",
       "      <td>NaN</td>\n",
       "      <td>0.518056</td>\n",
       "      <td>3.0</td>\n",
       "      <td>9.0</td>\n",
       "      <td>1126.0</td>\n",
       "      <td>0.0</td>\n",
       "      <td>40.0</td>\n",
       "    </tr>\n",
       "    <tr>\n",
       "      <th>4</th>\n",
       "      <td>3800</td>\n",
       "      <td>11.0</td>\n",
       "      <td>0.376389</td>\n",
       "      <td>2.0</td>\n",
       "      <td>23.0</td>\n",
       "      <td>47164.0</td>\n",
       "      <td>0.0</td>\n",
       "      <td>40.0</td>\n",
       "    </tr>\n",
       "  </tbody>\n",
       "</table>\n",
       "</div>"
      ],
      "text/plain": [
       "     ID  type      time  dayofweek  models   params  queuelen  trials\n",
       "0  2439   NaN  0.590972        2.0    13.0   4615.0       0.0    40.0\n",
       "1  1213   9.0  0.545833        7.0    33.0    552.0       0.0    40.0\n",
       "2  2659  14.0  0.510417        3.0     2.0   2890.0       0.0    40.0\n",
       "3    17   NaN  0.518056        3.0     9.0   1126.0       0.0    40.0\n",
       "4  3800  11.0  0.376389        2.0    23.0  47164.0       0.0    40.0"
      ]
     },
     "execution_count": 4,
     "metadata": {},
     "output_type": "execute_result"
    }
   ],
   "source": [
    "test.head()"
   ]
  },
  {
   "cell_type": "code",
   "execution_count": 5,
   "metadata": {},
   "outputs": [
    {
     "name": "stdout",
     "output_type": "stream",
     "text": [
      "(3464, 9)\n",
      "(867, 8)\n"
     ]
    }
   ],
   "source": [
    "print(train.shape)\n",
    "print(test.shape)"
   ]
  },
  {
   "cell_type": "code",
   "execution_count": 6,
   "metadata": {},
   "outputs": [
    {
     "name": "stdout",
     "output_type": "stream",
     "text": [
      "ID           3464\n",
      "type           14\n",
      "time          875\n",
      "dayofweek       7\n",
      "models        107\n",
      "params       2529\n",
      "queuelen      275\n",
      "trials         12\n",
      "duration        4\n",
      "dtype: int64\n"
     ]
    }
   ],
   "source": [
    "counts = train.nunique() # number of unique values in each feature\n",
    "print(counts)"
   ]
  },
  {
   "cell_type": "markdown",
   "metadata": {},
   "source": [
    "from the counts we can see \"duration\" has 4 unique values so moreover this is a multiclass classification problem.\n",
    "\"dayofweek\", \"trials\", \"type\" are categorical features"
   ]
  },
  {
   "cell_type": "code",
   "execution_count": 7,
   "metadata": {},
   "outputs": [
    {
     "name": "stdout",
     "output_type": "stream",
     "text": [
      "ID           867\n",
      "type          14\n",
      "time         514\n",
      "dayofweek      7\n",
      "models        78\n",
      "params       747\n",
      "queuelen      90\n",
      "trials         7\n",
      "dtype: int64\n"
     ]
    }
   ],
   "source": [
    "counts = test.nunique() # number of unique values in each feature\n",
    "print(counts)"
   ]
  },
  {
   "cell_type": "code",
   "execution_count": 8,
   "metadata": {},
   "outputs": [],
   "source": [
    "# removing Unnamed: 0 column, it is of no relevance to our solution\n",
    "train.drop([\"ID\"], axis = 1, inplace = True)\n",
    "test.drop([\"ID\"], axis = 1, inplace = True)"
   ]
  },
  {
   "cell_type": "code",
   "execution_count": 9,
   "metadata": {},
   "outputs": [
    {
     "name": "stdout",
     "output_type": "stream",
     "text": [
      "[0. 1. 3. 2.]\n"
     ]
    }
   ],
   "source": [
    "# duration has 4 unique values\n",
    "print(train[\"duration\"].unique())"
   ]
  },
  {
   "cell_type": "code",
   "execution_count": 10,
   "metadata": {},
   "outputs": [
    {
     "name": "stdout",
     "output_type": "stream",
     "text": [
      "0.0    1767\n",
      "1.0    1070\n",
      "2.0     418\n",
      "3.0     209\n",
      "Name: duration, dtype: int64\n"
     ]
    }
   ],
   "source": [
    "# frequency of each class in dataset\n",
    "print(train[\"duration\"].value_counts())"
   ]
  },
  {
   "cell_type": "markdown",
   "metadata": {},
   "source": [
    "here we can see the data is imbalanced"
   ]
  },
  {
   "cell_type": "code",
   "execution_count": 11,
   "metadata": {},
   "outputs": [
    {
     "data": {
      "text/plain": [
       "type         360\n",
       "time           0\n",
       "dayofweek      0\n",
       "models         0\n",
       "params       273\n",
       "queuelen       0\n",
       "trials         0\n",
       "duration       0\n",
       "dtype: int64"
      ]
     },
     "execution_count": 11,
     "metadata": {},
     "output_type": "execute_result"
    }
   ],
   "source": [
    "# checking for null values\n",
    "train.isnull().sum() "
   ]
  },
  {
   "cell_type": "code",
   "execution_count": 12,
   "metadata": {},
   "outputs": [
    {
     "data": {
      "text/plain": [
       "duration\n",
       "0.0    12387.898022\n",
       "1.0     7742.160606\n",
       "2.0    10485.765464\n",
       "3.0    14334.989744\n",
       "Name: params, dtype: float64"
      ]
     },
     "execution_count": 12,
     "metadata": {},
     "output_type": "execute_result"
    }
   ],
   "source": [
    "train.groupby([\"duration\"])[\"params\"].mean()"
   ]
  },
  {
   "cell_type": "code",
   "execution_count": 13,
   "metadata": {},
   "outputs": [
    {
     "data": {
      "text/plain": [
       "duration\n",
       "0.0     9.0\n",
       "1.0    14.0\n",
       "2.0    14.0\n",
       "3.0    14.0\n",
       "Name: type, dtype: float64"
      ]
     },
     "execution_count": 13,
     "metadata": {},
     "output_type": "execute_result"
    }
   ],
   "source": [
    "train.groupby([\"duration\"])[\"type\"].agg(pd.Series.mode)"
   ]
  },
  {
   "cell_type": "code",
   "execution_count": 14,
   "metadata": {},
   "outputs": [],
   "source": [
    "series = train[\"type\"].isna()\n",
    "for i in range(len(train)):\n",
    "    if series[i] == True:\n",
    "        if train[\"duration\"][i] == 0:\n",
    "            train[\"type\"][i] = 9.0\n",
    "        else:\n",
    "            train[\"type\"][i] = 14.0        "
   ]
  },
  {
   "cell_type": "code",
   "execution_count": 15,
   "metadata": {},
   "outputs": [],
   "source": [
    "series = test[\"type\"].isna()\n",
    "for i in range(len(test)):\n",
    "    if series[i] == True:\n",
    "        test[\"type\"][i] = 14.0 "
   ]
  },
  {
   "cell_type": "code",
   "execution_count": 16,
   "metadata": {},
   "outputs": [],
   "source": [
    "series = train[\"params\"].isna()\n",
    "for i in range(len(train)):\n",
    "    if series[i] == True:\n",
    "        if train[\"duration\"][i] == 0:\n",
    "            train[\"params\"][i] = 12387.898022\n",
    "        elif train[\"duration\"][i] == 1:\n",
    "            train[\"params\"][i] = 7742.160606\n",
    "        elif train[\"duration\"][i] == 2:\n",
    "            train[\"params\"][i] = 10485.765464\n",
    "        else: \n",
    "            train[\"params\"][i] = 14334.989744         "
   ]
  },
  {
   "cell_type": "code",
   "execution_count": 17,
   "metadata": {},
   "outputs": [],
   "source": [
    "series = test[\"params\"].isna()\n",
    "for i in range(len(test)):\n",
    "    if series[i] == True:\n",
    "        test[\"params\"][i] = 12387.898022"
   ]
  },
  {
   "cell_type": "code",
   "execution_count": 18,
   "metadata": {},
   "outputs": [
    {
     "data": {
      "text/plain": [
       "type         0\n",
       "time         0\n",
       "dayofweek    0\n",
       "models       0\n",
       "params       0\n",
       "queuelen     0\n",
       "trials       0\n",
       "duration     0\n",
       "dtype: int64"
      ]
     },
     "execution_count": 18,
     "metadata": {},
     "output_type": "execute_result"
    }
   ],
   "source": [
    "train.isnull().sum()"
   ]
  },
  {
   "cell_type": "code",
   "execution_count": 19,
   "metadata": {},
   "outputs": [
    {
     "data": {
      "text/plain": [
       "type         0\n",
       "time         0\n",
       "dayofweek    0\n",
       "models       0\n",
       "params       0\n",
       "queuelen     0\n",
       "trials       0\n",
       "dtype: int64"
      ]
     },
     "execution_count": 19,
     "metadata": {},
     "output_type": "execute_result"
    }
   ],
   "source": [
    "test.isnull().sum()"
   ]
  },
  {
   "cell_type": "code",
   "execution_count": 20,
   "metadata": {},
   "outputs": [
    {
     "name": "stdout",
     "output_type": "stream",
     "text": [
      "(3464, 8)\n",
      "(867, 7)\n"
     ]
    }
   ],
   "source": [
    "print(train.shape)\n",
    "print(test.shape)"
   ]
  },
  {
   "cell_type": "code",
   "execution_count": 21,
   "metadata": {},
   "outputs": [
    {
     "name": "stdout",
     "output_type": "stream",
     "text": [
      "type         float64\n",
      "time         float64\n",
      "dayofweek    float64\n",
      "models       float64\n",
      "params       float64\n",
      "queuelen     float64\n",
      "trials       float64\n",
      "duration     float64\n",
      "dtype: object\n"
     ]
    }
   ],
   "source": [
    "print(train.dtypes)"
   ]
  },
  {
   "cell_type": "code",
   "execution_count": 22,
   "metadata": {},
   "outputs": [
    {
     "data": {
      "text/html": [
       "<div>\n",
       "<style scoped>\n",
       "    .dataframe tbody tr th:only-of-type {\n",
       "        vertical-align: middle;\n",
       "    }\n",
       "\n",
       "    .dataframe tbody tr th {\n",
       "        vertical-align: top;\n",
       "    }\n",
       "\n",
       "    .dataframe thead th {\n",
       "        text-align: right;\n",
       "    }\n",
       "</style>\n",
       "<table border=\"1\" class=\"dataframe\">\n",
       "  <thead>\n",
       "    <tr style=\"text-align: right;\">\n",
       "      <th></th>\n",
       "      <th>type</th>\n",
       "      <th>time</th>\n",
       "      <th>dayofweek</th>\n",
       "      <th>models</th>\n",
       "      <th>params</th>\n",
       "      <th>queuelen</th>\n",
       "      <th>trials</th>\n",
       "      <th>duration</th>\n",
       "    </tr>\n",
       "  </thead>\n",
       "  <tbody>\n",
       "    <tr>\n",
       "      <th>count</th>\n",
       "      <td>3464.000000</td>\n",
       "      <td>3464.000000</td>\n",
       "      <td>3464.000000</td>\n",
       "      <td>3464.000000</td>\n",
       "      <td>3464.000000</td>\n",
       "      <td>3464.000000</td>\n",
       "      <td>3464.000000</td>\n",
       "      <td>3464.000000</td>\n",
       "    </tr>\n",
       "    <tr>\n",
       "      <th>mean</th>\n",
       "      <td>9.480947</td>\n",
       "      <td>0.571791</td>\n",
       "      <td>3.246536</td>\n",
       "      <td>82.018764</td>\n",
       "      <td>10840.817111</td>\n",
       "      <td>54.402425</td>\n",
       "      <td>58.599018</td>\n",
       "      <td>0.731236</td>\n",
       "    </tr>\n",
       "    <tr>\n",
       "      <th>std</th>\n",
       "      <td>3.603137</td>\n",
       "      <td>0.166895</td>\n",
       "      <td>1.571793</td>\n",
       "      <td>1901.719969</td>\n",
       "      <td>24685.394507</td>\n",
       "      <td>354.209141</td>\n",
       "      <td>68.524295</td>\n",
       "      <td>0.894489</td>\n",
       "    </tr>\n",
       "    <tr>\n",
       "      <th>min</th>\n",
       "      <td>0.000000</td>\n",
       "      <td>0.000694</td>\n",
       "      <td>1.000000</td>\n",
       "      <td>1.000000</td>\n",
       "      <td>71.000000</td>\n",
       "      <td>0.000000</td>\n",
       "      <td>5.000000</td>\n",
       "      <td>0.000000</td>\n",
       "    </tr>\n",
       "    <tr>\n",
       "      <th>25%</th>\n",
       "      <td>8.000000</td>\n",
       "      <td>0.455556</td>\n",
       "      <td>2.000000</td>\n",
       "      <td>5.000000</td>\n",
       "      <td>1026.250000</td>\n",
       "      <td>0.000000</td>\n",
       "      <td>40.000000</td>\n",
       "      <td>0.000000</td>\n",
       "    </tr>\n",
       "    <tr>\n",
       "      <th>50%</th>\n",
       "      <td>9.000000</td>\n",
       "      <td>0.584375</td>\n",
       "      <td>3.000000</td>\n",
       "      <td>13.000000</td>\n",
       "      <td>3249.000000</td>\n",
       "      <td>0.000000</td>\n",
       "      <td>40.000000</td>\n",
       "      <td>0.000000</td>\n",
       "    </tr>\n",
       "    <tr>\n",
       "      <th>75%</th>\n",
       "      <td>13.000000</td>\n",
       "      <td>0.690972</td>\n",
       "      <td>5.000000</td>\n",
       "      <td>26.000000</td>\n",
       "      <td>8988.000000</td>\n",
       "      <td>0.000000</td>\n",
       "      <td>40.000000</td>\n",
       "      <td>1.000000</td>\n",
       "    </tr>\n",
       "    <tr>\n",
       "      <th>max</th>\n",
       "      <td>14.000000</td>\n",
       "      <td>0.991667</td>\n",
       "      <td>7.000000</td>\n",
       "      <td>87293.000000</td>\n",
       "      <td>396701.000000</td>\n",
       "      <td>5547.000000</td>\n",
       "      <td>400.000000</td>\n",
       "      <td>3.000000</td>\n",
       "    </tr>\n",
       "  </tbody>\n",
       "</table>\n",
       "</div>"
      ],
      "text/plain": [
       "              type         time    dayofweek        models         params  \\\n",
       "count  3464.000000  3464.000000  3464.000000   3464.000000    3464.000000   \n",
       "mean      9.480947     0.571791     3.246536     82.018764   10840.817111   \n",
       "std       3.603137     0.166895     1.571793   1901.719969   24685.394507   \n",
       "min       0.000000     0.000694     1.000000      1.000000      71.000000   \n",
       "25%       8.000000     0.455556     2.000000      5.000000    1026.250000   \n",
       "50%       9.000000     0.584375     3.000000     13.000000    3249.000000   \n",
       "75%      13.000000     0.690972     5.000000     26.000000    8988.000000   \n",
       "max      14.000000     0.991667     7.000000  87293.000000  396701.000000   \n",
       "\n",
       "          queuelen       trials     duration  \n",
       "count  3464.000000  3464.000000  3464.000000  \n",
       "mean     54.402425    58.599018     0.731236  \n",
       "std     354.209141    68.524295     0.894489  \n",
       "min       0.000000     5.000000     0.000000  \n",
       "25%       0.000000    40.000000     0.000000  \n",
       "50%       0.000000    40.000000     0.000000  \n",
       "75%       0.000000    40.000000     1.000000  \n",
       "max    5547.000000   400.000000     3.000000  "
      ]
     },
     "execution_count": 22,
     "metadata": {},
     "output_type": "execute_result"
    }
   ],
   "source": [
    "train.describe()"
   ]
  },
  {
   "cell_type": "code",
   "execution_count": 23,
   "metadata": {},
   "outputs": [
    {
     "data": {
      "text/html": [
       "<div>\n",
       "<style scoped>\n",
       "    .dataframe tbody tr th:only-of-type {\n",
       "        vertical-align: middle;\n",
       "    }\n",
       "\n",
       "    .dataframe tbody tr th {\n",
       "        vertical-align: top;\n",
       "    }\n",
       "\n",
       "    .dataframe thead th {\n",
       "        text-align: right;\n",
       "    }\n",
       "</style>\n",
       "<table border=\"1\" class=\"dataframe\">\n",
       "  <thead>\n",
       "    <tr style=\"text-align: right;\">\n",
       "      <th></th>\n",
       "      <th>type</th>\n",
       "      <th>time</th>\n",
       "      <th>dayofweek</th>\n",
       "      <th>models</th>\n",
       "      <th>params</th>\n",
       "      <th>queuelen</th>\n",
       "      <th>trials</th>\n",
       "      <th>duration</th>\n",
       "    </tr>\n",
       "  </thead>\n",
       "  <tbody>\n",
       "    <tr>\n",
       "      <th>0</th>\n",
       "      <td>9.0</td>\n",
       "      <td>0.413889</td>\n",
       "      <td>3.0</td>\n",
       "      <td>21.0</td>\n",
       "      <td>535.0</td>\n",
       "      <td>0.0</td>\n",
       "      <td>40.0</td>\n",
       "      <td>0.0</td>\n",
       "    </tr>\n",
       "    <tr>\n",
       "      <th>1</th>\n",
       "      <td>9.0</td>\n",
       "      <td>0.643056</td>\n",
       "      <td>5.0</td>\n",
       "      <td>9.0</td>\n",
       "      <td>2682.0</td>\n",
       "      <td>0.0</td>\n",
       "      <td>40.0</td>\n",
       "      <td>0.0</td>\n",
       "    </tr>\n",
       "    <tr>\n",
       "      <th>2</th>\n",
       "      <td>13.0</td>\n",
       "      <td>0.607639</td>\n",
       "      <td>4.0</td>\n",
       "      <td>32.0</td>\n",
       "      <td>3305.0</td>\n",
       "      <td>0.0</td>\n",
       "      <td>40.0</td>\n",
       "      <td>0.0</td>\n",
       "    </tr>\n",
       "    <tr>\n",
       "      <th>3</th>\n",
       "      <td>8.0</td>\n",
       "      <td>0.643750</td>\n",
       "      <td>4.0</td>\n",
       "      <td>3.0</td>\n",
       "      <td>22023.0</td>\n",
       "      <td>0.0</td>\n",
       "      <td>40.0</td>\n",
       "      <td>0.0</td>\n",
       "    </tr>\n",
       "    <tr>\n",
       "      <th>4</th>\n",
       "      <td>12.0</td>\n",
       "      <td>0.519444</td>\n",
       "      <td>3.0</td>\n",
       "      <td>8.0</td>\n",
       "      <td>3707.0</td>\n",
       "      <td>0.0</td>\n",
       "      <td>40.0</td>\n",
       "      <td>0.0</td>\n",
       "    </tr>\n",
       "  </tbody>\n",
       "</table>\n",
       "</div>"
      ],
      "text/plain": [
       "   type      time  dayofweek  models   params  queuelen  trials  duration\n",
       "0   9.0  0.413889        3.0    21.0    535.0       0.0    40.0       0.0\n",
       "1   9.0  0.643056        5.0     9.0   2682.0       0.0    40.0       0.0\n",
       "2  13.0  0.607639        4.0    32.0   3305.0       0.0    40.0       0.0\n",
       "3   8.0  0.643750        4.0     3.0  22023.0       0.0    40.0       0.0\n",
       "4  12.0  0.519444        3.0     8.0   3707.0       0.0    40.0       0.0"
      ]
     },
     "execution_count": 23,
     "metadata": {},
     "output_type": "execute_result"
    }
   ],
   "source": [
    "train.head()"
   ]
  },
  {
   "cell_type": "code",
   "execution_count": 24,
   "metadata": {},
   "outputs": [],
   "source": [
    "import seaborn as sns\n",
    "import matplotlib.pyplot as plt\n",
    "%matplotlib inline"
   ]
  },
  {
   "cell_type": "code",
   "execution_count": 25,
   "metadata": {},
   "outputs": [
    {
     "data": {
      "image/png": "[encoded data removed]",
      "text/plain": [
       "<Figure size 720x720 with 2 Axes>"
      ]
     },
     "metadata": {
      "needs_background": "light"
     },
     "output_type": "display_data"
    }
   ],
   "source": [
    "corrmat = train.corr()\n",
    "top_corr_features = corrmat.index\n",
    "plt.figure(figsize = (10, 10))\n",
    "g = sns.heatmap(train[top_corr_features].corr(), annot = True, center=0, linewidths=.5)"
   ]
  },
  {
   "cell_type": "code",
   "execution_count": 26,
   "metadata": {},
   "outputs": [
    {
     "name": "stdout",
     "output_type": "stream",
     "text": [
      "[ 40. 200.  20. 400. 250. 100.  22.  30.  60.  80.   5. 300.]\n"
     ]
    }
   ],
   "source": [
    "print(train[\"trials\"].unique())"
   ]
  },
  {
   "cell_type": "code",
   "execution_count": 27,
   "metadata": {},
   "outputs": [
    {
     "name": "stdout",
     "output_type": "stream",
     "text": [
      "[ 40. 400.  20. 200. 100.  22. 300.]\n"
     ]
    }
   ],
   "source": [
    "print(test[\"trials\"].unique())"
   ]
  },
  {
   "cell_type": "code",
   "execution_count": 28,
   "metadata": {},
   "outputs": [
    {
     "data": {
      "text/plain": [
       "trials\n",
       "5.0         1\n",
       "20.0      208\n",
       "22.0        6\n",
       "30.0        2\n",
       "40.0     2856\n",
       "60.0        3\n",
       "80.0        7\n",
       "100.0     125\n",
       "200.0     155\n",
       "250.0       1\n",
       "300.0       1\n",
       "400.0      99\n",
       "Name: trials, dtype: int64"
      ]
     },
     "execution_count": 28,
     "metadata": {},
     "output_type": "execute_result"
    }
   ],
   "source": [
    "train.groupby(['trials'])['trials'].count()\n",
    "# 5 - 40\n",
    "# 30 - 40\n",
    "# 60 - 40\n",
    "# 80 - 40\n",
    "# 250 - 40"
   ]
  },
  {
   "cell_type": "code",
   "execution_count": 29,
   "metadata": {},
   "outputs": [
    {
     "data": {
      "text/plain": [
       "trials\n",
       "20.0      64\n",
       "22.0       3\n",
       "40.0     711\n",
       "100.0     28\n",
       "200.0     33\n",
       "300.0      1\n",
       "400.0     27\n",
       "Name: trials, dtype: int64"
      ]
     },
     "execution_count": 29,
     "metadata": {},
     "output_type": "execute_result"
    }
   ],
   "source": [
    "test.groupby(['trials'])['trials'].count()"
   ]
  },
  {
   "cell_type": "code",
   "execution_count": 30,
   "metadata": {},
   "outputs": [],
   "source": [
    "to_get_rid_of = [5, 30, 60, 80, 250]\n",
    "for i in range(len(train)):\n",
    "    if train[\"trials\"][i] in to_get_rid_of:\n",
    "        train[\"trials\"][i] = 40"
   ]
  },
  {
   "cell_type": "code",
   "execution_count": 31,
   "metadata": {},
   "outputs": [],
   "source": [
    "train = pd.get_dummies(train, columns=[\"dayofweek\"], prefix=\"day\", drop_first = True)"
   ]
  },
  {
   "cell_type": "code",
   "execution_count": 32,
   "metadata": {},
   "outputs": [],
   "source": [
    "train = pd.get_dummies(train, columns=[\"type\"], prefix=\"type\", drop_first = True)"
   ]
  },
  {
   "cell_type": "code",
   "execution_count": 33,
   "metadata": {},
   "outputs": [],
   "source": [
    "train = pd.get_dummies(train, columns=[\"trials\"], prefix=\"trial\", drop_first = True)"
   ]
  },
  {
   "cell_type": "code",
   "execution_count": 34,
   "metadata": {},
   "outputs": [],
   "source": [
    "test = pd.get_dummies(test, columns=[\"dayofweek\"], prefix=\"day\", drop_first = True)"
   ]
  },
  {
   "cell_type": "code",
   "execution_count": 35,
   "metadata": {},
   "outputs": [],
   "source": [
    "test = pd.get_dummies(test, columns=[\"type\"], prefix=\"type\", drop_first = True)"
   ]
  },
  {
   "cell_type": "code",
   "execution_count": 36,
   "metadata": {},
   "outputs": [],
   "source": [
    "test = pd.get_dummies(test, columns=[\"trials\"], prefix=\"trials\", drop_first = True)"
   ]
  },
  {
   "cell_type": "code",
   "execution_count": 37,
   "metadata": {},
   "outputs": [
    {
     "data": {
      "text/html": [
       "<div>\n",
       "<style scoped>\n",
       "    .dataframe tbody tr th:only-of-type {\n",
       "        vertical-align: middle;\n",
       "    }\n",
       "\n",
       "    .dataframe tbody tr th {\n",
       "        vertical-align: top;\n",
       "    }\n",
       "\n",
       "    .dataframe thead th {\n",
       "        text-align: right;\n",
       "    }\n",
       "</style>\n",
       "<table border=\"1\" class=\"dataframe\">\n",
       "  <thead>\n",
       "    <tr style=\"text-align: right;\">\n",
       "      <th></th>\n",
       "      <th>time</th>\n",
       "      <th>models</th>\n",
       "      <th>params</th>\n",
       "      <th>queuelen</th>\n",
       "      <th>duration</th>\n",
       "      <th>day_2.0</th>\n",
       "      <th>day_3.0</th>\n",
       "      <th>day_4.0</th>\n",
       "      <th>day_5.0</th>\n",
       "      <th>day_6.0</th>\n",
       "      <th>...</th>\n",
       "      <th>type_11.0</th>\n",
       "      <th>type_12.0</th>\n",
       "      <th>type_13.0</th>\n",
       "      <th>type_14.0</th>\n",
       "      <th>trial_22.0</th>\n",
       "      <th>trial_40.0</th>\n",
       "      <th>trial_100.0</th>\n",
       "      <th>trial_200.0</th>\n",
       "      <th>trial_300.0</th>\n",
       "      <th>trial_400.0</th>\n",
       "    </tr>\n",
       "  </thead>\n",
       "  <tbody>\n",
       "    <tr>\n",
       "      <th>0</th>\n",
       "      <td>0.413889</td>\n",
       "      <td>21.0</td>\n",
       "      <td>535.0</td>\n",
       "      <td>0.0</td>\n",
       "      <td>0.0</td>\n",
       "      <td>0</td>\n",
       "      <td>1</td>\n",
       "      <td>0</td>\n",
       "      <td>0</td>\n",
       "      <td>0</td>\n",
       "      <td>...</td>\n",
       "      <td>0</td>\n",
       "      <td>0</td>\n",
       "      <td>0</td>\n",
       "      <td>0</td>\n",
       "      <td>0</td>\n",
       "      <td>1</td>\n",
       "      <td>0</td>\n",
       "      <td>0</td>\n",
       "      <td>0</td>\n",
       "      <td>0</td>\n",
       "    </tr>\n",
       "    <tr>\n",
       "      <th>1</th>\n",
       "      <td>0.643056</td>\n",
       "      <td>9.0</td>\n",
       "      <td>2682.0</td>\n",
       "      <td>0.0</td>\n",
       "      <td>0.0</td>\n",
       "      <td>0</td>\n",
       "      <td>0</td>\n",
       "      <td>0</td>\n",
       "      <td>1</td>\n",
       "      <td>0</td>\n",
       "      <td>...</td>\n",
       "      <td>0</td>\n",
       "      <td>0</td>\n",
       "      <td>0</td>\n",
       "      <td>0</td>\n",
       "      <td>0</td>\n",
       "      <td>1</td>\n",
       "      <td>0</td>\n",
       "      <td>0</td>\n",
       "      <td>0</td>\n",
       "      <td>0</td>\n",
       "    </tr>\n",
       "    <tr>\n",
       "      <th>2</th>\n",
       "      <td>0.607639</td>\n",
       "      <td>32.0</td>\n",
       "      <td>3305.0</td>\n",
       "      <td>0.0</td>\n",
       "      <td>0.0</td>\n",
       "      <td>0</td>\n",
       "      <td>0</td>\n",
       "      <td>1</td>\n",
       "      <td>0</td>\n",
       "      <td>0</td>\n",
       "      <td>...</td>\n",
       "      <td>0</td>\n",
       "      <td>0</td>\n",
       "      <td>1</td>\n",
       "      <td>0</td>\n",
       "      <td>0</td>\n",
       "      <td>1</td>\n",
       "      <td>0</td>\n",
       "      <td>0</td>\n",
       "      <td>0</td>\n",
       "      <td>0</td>\n",
       "    </tr>\n",
       "    <tr>\n",
       "      <th>3</th>\n",
       "      <td>0.643750</td>\n",
       "      <td>3.0</td>\n",
       "      <td>22023.0</td>\n",
       "      <td>0.0</td>\n",
       "      <td>0.0</td>\n",
       "      <td>0</td>\n",
       "      <td>0</td>\n",
       "      <td>1</td>\n",
       "      <td>0</td>\n",
       "      <td>0</td>\n",
       "      <td>...</td>\n",
       "      <td>0</td>\n",
       "      <td>0</td>\n",
       "      <td>0</td>\n",
       "      <td>0</td>\n",
       "      <td>0</td>\n",
       "      <td>1</td>\n",
       "      <td>0</td>\n",
       "      <td>0</td>\n",
       "      <td>0</td>\n",
       "      <td>0</td>\n",
       "    </tr>\n",
       "    <tr>\n",
       "      <th>4</th>\n",
       "      <td>0.519444</td>\n",
       "      <td>8.0</td>\n",
       "      <td>3707.0</td>\n",
       "      <td>0.0</td>\n",
       "      <td>0.0</td>\n",
       "      <td>0</td>\n",
       "      <td>1</td>\n",
       "      <td>0</td>\n",
       "      <td>0</td>\n",
       "      <td>0</td>\n",
       "      <td>...</td>\n",
       "      <td>0</td>\n",
       "      <td>1</td>\n",
       "      <td>0</td>\n",
       "      <td>0</td>\n",
       "      <td>0</td>\n",
       "      <td>1</td>\n",
       "      <td>0</td>\n",
       "      <td>0</td>\n",
       "      <td>0</td>\n",
       "      <td>0</td>\n",
       "    </tr>\n",
       "  </tbody>\n",
       "</table>\n",
       "<p>5 rows × 30 columns</p>\n",
       "</div>"
      ],
      "text/plain": [
       "       time  models   params  queuelen  duration  day_2.0  day_3.0  day_4.0  \\\n",
       "0  0.413889    21.0    535.0       0.0       0.0        0        1        0   \n",
       "1  0.643056     9.0   2682.0       0.0       0.0        0        0        0   \n",
       "2  0.607639    32.0   3305.0       0.0       0.0        0        0        1   \n",
       "3  0.643750     3.0  22023.0       0.0       0.0        0        0        1   \n",
       "4  0.519444     8.0   3707.0       0.0       0.0        0        1        0   \n",
       "\n",
       "   day_5.0  day_6.0  ...  type_11.0  type_12.0  type_13.0  type_14.0  \\\n",
       "0        0        0  ...          0          0          0          0   \n",
       "1        1        0  ...          0          0          0          0   \n",
       "2        0        0  ...          0          0          1          0   \n",
       "3        0        0  ...          0          0          0          0   \n",
       "4        0        0  ...          0          1          0          0   \n",
       "\n",
       "   trial_22.0  trial_40.0  trial_100.0  trial_200.0  trial_300.0  trial_400.0  \n",
       "0           0           1            0            0            0            0  \n",
       "1           0           1            0            0            0            0  \n",
       "2           0           1            0            0            0            0  \n",
       "3           0           1            0            0            0            0  \n",
       "4           0           1            0            0            0            0  \n",
       "\n",
       "[5 rows x 30 columns]"
      ]
     },
     "execution_count": 37,
     "metadata": {},
     "output_type": "execute_result"
    }
   ],
   "source": [
    "train.head()"
   ]
  },
  {
   "cell_type": "code",
   "execution_count": 38,
   "metadata": {},
   "outputs": [
    {
     "data": {
      "text/html": [
       "<div>\n",
       "<style scoped>\n",
       "    .dataframe tbody tr th:only-of-type {\n",
       "        vertical-align: middle;\n",
       "    }\n",
       "\n",
       "    .dataframe tbody tr th {\n",
       "        vertical-align: top;\n",
       "    }\n",
       "\n",
       "    .dataframe thead th {\n",
       "        text-align: right;\n",
       "    }\n",
       "</style>\n",
       "<table border=\"1\" class=\"dataframe\">\n",
       "  <thead>\n",
       "    <tr style=\"text-align: right;\">\n",
       "      <th></th>\n",
       "      <th>time</th>\n",
       "      <th>models</th>\n",
       "      <th>params</th>\n",
       "      <th>queuelen</th>\n",
       "      <th>day_2.0</th>\n",
       "      <th>day_3.0</th>\n",
       "      <th>day_4.0</th>\n",
       "      <th>day_5.0</th>\n",
       "      <th>day_6.0</th>\n",
       "      <th>day_7.0</th>\n",
       "      <th>...</th>\n",
       "      <th>type_11.0</th>\n",
       "      <th>type_12.0</th>\n",
       "      <th>type_13.0</th>\n",
       "      <th>type_14.0</th>\n",
       "      <th>trials_22.0</th>\n",
       "      <th>trials_40.0</th>\n",
       "      <th>trials_100.0</th>\n",
       "      <th>trials_200.0</th>\n",
       "      <th>trials_300.0</th>\n",
       "      <th>trials_400.0</th>\n",
       "    </tr>\n",
       "  </thead>\n",
       "  <tbody>\n",
       "    <tr>\n",
       "      <th>0</th>\n",
       "      <td>0.590972</td>\n",
       "      <td>13.0</td>\n",
       "      <td>4615.0</td>\n",
       "      <td>0.0</td>\n",
       "      <td>1</td>\n",
       "      <td>0</td>\n",
       "      <td>0</td>\n",
       "      <td>0</td>\n",
       "      <td>0</td>\n",
       "      <td>0</td>\n",
       "      <td>...</td>\n",
       "      <td>0</td>\n",
       "      <td>0</td>\n",
       "      <td>0</td>\n",
       "      <td>1</td>\n",
       "      <td>0</td>\n",
       "      <td>1</td>\n",
       "      <td>0</td>\n",
       "      <td>0</td>\n",
       "      <td>0</td>\n",
       "      <td>0</td>\n",
       "    </tr>\n",
       "    <tr>\n",
       "      <th>1</th>\n",
       "      <td>0.545833</td>\n",
       "      <td>33.0</td>\n",
       "      <td>552.0</td>\n",
       "      <td>0.0</td>\n",
       "      <td>0</td>\n",
       "      <td>0</td>\n",
       "      <td>0</td>\n",
       "      <td>0</td>\n",
       "      <td>0</td>\n",
       "      <td>1</td>\n",
       "      <td>...</td>\n",
       "      <td>0</td>\n",
       "      <td>0</td>\n",
       "      <td>0</td>\n",
       "      <td>0</td>\n",
       "      <td>0</td>\n",
       "      <td>1</td>\n",
       "      <td>0</td>\n",
       "      <td>0</td>\n",
       "      <td>0</td>\n",
       "      <td>0</td>\n",
       "    </tr>\n",
       "    <tr>\n",
       "      <th>2</th>\n",
       "      <td>0.510417</td>\n",
       "      <td>2.0</td>\n",
       "      <td>2890.0</td>\n",
       "      <td>0.0</td>\n",
       "      <td>0</td>\n",
       "      <td>1</td>\n",
       "      <td>0</td>\n",
       "      <td>0</td>\n",
       "      <td>0</td>\n",
       "      <td>0</td>\n",
       "      <td>...</td>\n",
       "      <td>0</td>\n",
       "      <td>0</td>\n",
       "      <td>0</td>\n",
       "      <td>1</td>\n",
       "      <td>0</td>\n",
       "      <td>1</td>\n",
       "      <td>0</td>\n",
       "      <td>0</td>\n",
       "      <td>0</td>\n",
       "      <td>0</td>\n",
       "    </tr>\n",
       "    <tr>\n",
       "      <th>3</th>\n",
       "      <td>0.518056</td>\n",
       "      <td>9.0</td>\n",
       "      <td>1126.0</td>\n",
       "      <td>0.0</td>\n",
       "      <td>0</td>\n",
       "      <td>1</td>\n",
       "      <td>0</td>\n",
       "      <td>0</td>\n",
       "      <td>0</td>\n",
       "      <td>0</td>\n",
       "      <td>...</td>\n",
       "      <td>0</td>\n",
       "      <td>0</td>\n",
       "      <td>0</td>\n",
       "      <td>1</td>\n",
       "      <td>0</td>\n",
       "      <td>1</td>\n",
       "      <td>0</td>\n",
       "      <td>0</td>\n",
       "      <td>0</td>\n",
       "      <td>0</td>\n",
       "    </tr>\n",
       "    <tr>\n",
       "      <th>4</th>\n",
       "      <td>0.376389</td>\n",
       "      <td>23.0</td>\n",
       "      <td>47164.0</td>\n",
       "      <td>0.0</td>\n",
       "      <td>1</td>\n",
       "      <td>0</td>\n",
       "      <td>0</td>\n",
       "      <td>0</td>\n",
       "      <td>0</td>\n",
       "      <td>0</td>\n",
       "      <td>...</td>\n",
       "      <td>1</td>\n",
       "      <td>0</td>\n",
       "      <td>0</td>\n",
       "      <td>0</td>\n",
       "      <td>0</td>\n",
       "      <td>1</td>\n",
       "      <td>0</td>\n",
       "      <td>0</td>\n",
       "      <td>0</td>\n",
       "      <td>0</td>\n",
       "    </tr>\n",
       "  </tbody>\n",
       "</table>\n",
       "<p>5 rows × 29 columns</p>\n",
       "</div>"
      ],
      "text/plain": [
       "       time  models   params  queuelen  day_2.0  day_3.0  day_4.0  day_5.0  \\\n",
       "0  0.590972    13.0   4615.0       0.0        1        0        0        0   \n",
       "1  0.545833    33.0    552.0       0.0        0        0        0        0   \n",
       "2  0.510417     2.0   2890.0       0.0        0        1        0        0   \n",
       "3  0.518056     9.0   1126.0       0.0        0        1        0        0   \n",
       "4  0.376389    23.0  47164.0       0.0        1        0        0        0   \n",
       "\n",
       "   day_6.0  day_7.0  ...  type_11.0  type_12.0  type_13.0  type_14.0  \\\n",
       "0        0        0  ...          0          0          0          1   \n",
       "1        0        1  ...          0          0          0          0   \n",
       "2        0        0  ...          0          0          0          1   \n",
       "3        0        0  ...          0          0          0          1   \n",
       "4        0        0  ...          1          0          0          0   \n",
       "\n",
       "   trials_22.0  trials_40.0  trials_100.0  trials_200.0  trials_300.0  \\\n",
       "0            0            1             0             0             0   \n",
       "1            0            1             0             0             0   \n",
       "2            0            1             0             0             0   \n",
       "3            0            1             0             0             0   \n",
       "4            0            1             0             0             0   \n",
       "\n",
       "   trials_400.0  \n",
       "0             0  \n",
       "1             0  \n",
       "2             0  \n",
       "3             0  \n",
       "4             0  \n",
       "\n",
       "[5 rows x 29 columns]"
      ]
     },
     "execution_count": 38,
     "metadata": {},
     "output_type": "execute_result"
    }
   ],
   "source": [
    "test.head()"
   ]
  },
  {
   "cell_type": "code",
   "execution_count": 39,
   "metadata": {
    "scrolled": true
   },
   "outputs": [
    {
     "data": {
      "text/html": [
       "<div>\n",
       "<style scoped>\n",
       "    .dataframe tbody tr th:only-of-type {\n",
       "        vertical-align: middle;\n",
       "    }\n",
       "\n",
       "    .dataframe tbody tr th {\n",
       "        vertical-align: top;\n",
       "    }\n",
       "\n",
       "    .dataframe thead th {\n",
       "        text-align: right;\n",
       "    }\n",
       "</style>\n",
       "<table border=\"1\" class=\"dataframe\">\n",
       "  <thead>\n",
       "    <tr style=\"text-align: right;\">\n",
       "      <th></th>\n",
       "      <th>time</th>\n",
       "      <th>models</th>\n",
       "      <th>params</th>\n",
       "      <th>queuelen</th>\n",
       "      <th>day_2.0</th>\n",
       "      <th>day_3.0</th>\n",
       "      <th>day_4.0</th>\n",
       "      <th>day_5.0</th>\n",
       "      <th>day_6.0</th>\n",
       "      <th>day_7.0</th>\n",
       "      <th>...</th>\n",
       "      <th>type_12.0</th>\n",
       "      <th>type_13.0</th>\n",
       "      <th>type_14.0</th>\n",
       "      <th>trial_22.0</th>\n",
       "      <th>trial_40.0</th>\n",
       "      <th>trial_100.0</th>\n",
       "      <th>trial_200.0</th>\n",
       "      <th>trial_300.0</th>\n",
       "      <th>trial_400.0</th>\n",
       "      <th>duration</th>\n",
       "    </tr>\n",
       "  </thead>\n",
       "  <tbody>\n",
       "    <tr>\n",
       "      <th>0</th>\n",
       "      <td>0.413889</td>\n",
       "      <td>21.0</td>\n",
       "      <td>535.0</td>\n",
       "      <td>0.0</td>\n",
       "      <td>0</td>\n",
       "      <td>1</td>\n",
       "      <td>0</td>\n",
       "      <td>0</td>\n",
       "      <td>0</td>\n",
       "      <td>0</td>\n",
       "      <td>...</td>\n",
       "      <td>0</td>\n",
       "      <td>0</td>\n",
       "      <td>0</td>\n",
       "      <td>0</td>\n",
       "      <td>1</td>\n",
       "      <td>0</td>\n",
       "      <td>0</td>\n",
       "      <td>0</td>\n",
       "      <td>0</td>\n",
       "      <td>0.0</td>\n",
       "    </tr>\n",
       "    <tr>\n",
       "      <th>1</th>\n",
       "      <td>0.643056</td>\n",
       "      <td>9.0</td>\n",
       "      <td>2682.0</td>\n",
       "      <td>0.0</td>\n",
       "      <td>0</td>\n",
       "      <td>0</td>\n",
       "      <td>0</td>\n",
       "      <td>1</td>\n",
       "      <td>0</td>\n",
       "      <td>0</td>\n",
       "      <td>...</td>\n",
       "      <td>0</td>\n",
       "      <td>0</td>\n",
       "      <td>0</td>\n",
       "      <td>0</td>\n",
       "      <td>1</td>\n",
       "      <td>0</td>\n",
       "      <td>0</td>\n",
       "      <td>0</td>\n",
       "      <td>0</td>\n",
       "      <td>0.0</td>\n",
       "    </tr>\n",
       "    <tr>\n",
       "      <th>2</th>\n",
       "      <td>0.607639</td>\n",
       "      <td>32.0</td>\n",
       "      <td>3305.0</td>\n",
       "      <td>0.0</td>\n",
       "      <td>0</td>\n",
       "      <td>0</td>\n",
       "      <td>1</td>\n",
       "      <td>0</td>\n",
       "      <td>0</td>\n",
       "      <td>0</td>\n",
       "      <td>...</td>\n",
       "      <td>0</td>\n",
       "      <td>1</td>\n",
       "      <td>0</td>\n",
       "      <td>0</td>\n",
       "      <td>1</td>\n",
       "      <td>0</td>\n",
       "      <td>0</td>\n",
       "      <td>0</td>\n",
       "      <td>0</td>\n",
       "      <td>0.0</td>\n",
       "    </tr>\n",
       "    <tr>\n",
       "      <th>3</th>\n",
       "      <td>0.643750</td>\n",
       "      <td>3.0</td>\n",
       "      <td>22023.0</td>\n",
       "      <td>0.0</td>\n",
       "      <td>0</td>\n",
       "      <td>0</td>\n",
       "      <td>1</td>\n",
       "      <td>0</td>\n",
       "      <td>0</td>\n",
       "      <td>0</td>\n",
       "      <td>...</td>\n",
       "      <td>0</td>\n",
       "      <td>0</td>\n",
       "      <td>0</td>\n",
       "      <td>0</td>\n",
       "      <td>1</td>\n",
       "      <td>0</td>\n",
       "      <td>0</td>\n",
       "      <td>0</td>\n",
       "      <td>0</td>\n",
       "      <td>0.0</td>\n",
       "    </tr>\n",
       "    <tr>\n",
       "      <th>4</th>\n",
       "      <td>0.519444</td>\n",
       "      <td>8.0</td>\n",
       "      <td>3707.0</td>\n",
       "      <td>0.0</td>\n",
       "      <td>0</td>\n",
       "      <td>1</td>\n",
       "      <td>0</td>\n",
       "      <td>0</td>\n",
       "      <td>0</td>\n",
       "      <td>0</td>\n",
       "      <td>...</td>\n",
       "      <td>1</td>\n",
       "      <td>0</td>\n",
       "      <td>0</td>\n",
       "      <td>0</td>\n",
       "      <td>1</td>\n",
       "      <td>0</td>\n",
       "      <td>0</td>\n",
       "      <td>0</td>\n",
       "      <td>0</td>\n",
       "      <td>0.0</td>\n",
       "    </tr>\n",
       "  </tbody>\n",
       "</table>\n",
       "<p>5 rows × 30 columns</p>\n",
       "</div>"
      ],
      "text/plain": [
       "       time  models   params  queuelen  day_2.0  day_3.0  day_4.0  day_5.0  \\\n",
       "0  0.413889    21.0    535.0       0.0        0        1        0        0   \n",
       "1  0.643056     9.0   2682.0       0.0        0        0        0        1   \n",
       "2  0.607639    32.0   3305.0       0.0        0        0        1        0   \n",
       "3  0.643750     3.0  22023.0       0.0        0        0        1        0   \n",
       "4  0.519444     8.0   3707.0       0.0        0        1        0        0   \n",
       "\n",
       "   day_6.0  day_7.0  ...  type_12.0  type_13.0  type_14.0  trial_22.0  \\\n",
       "0        0        0  ...          0          0          0           0   \n",
       "1        0        0  ...          0          0          0           0   \n",
       "2        0        0  ...          0          1          0           0   \n",
       "3        0        0  ...          0          0          0           0   \n",
       "4        0        0  ...          1          0          0           0   \n",
       "\n",
       "   trial_40.0  trial_100.0  trial_200.0  trial_300.0  trial_400.0  duration  \n",
       "0           1            0            0            0            0       0.0  \n",
       "1           1            0            0            0            0       0.0  \n",
       "2           1            0            0            0            0       0.0  \n",
       "3           1            0            0            0            0       0.0  \n",
       "4           1            0            0            0            0       0.0  \n",
       "\n",
       "[5 rows x 30 columns]"
      ]
     },
     "execution_count": 39,
     "metadata": {},
     "output_type": "execute_result"
    }
   ],
   "source": [
    "duration = train[\"duration\"]\n",
    "train.drop([\"duration\"], axis = 1, inplace = True)\n",
    "train[\"duration\"] = duration\n",
    "train.head()"
   ]
  },
  {
   "cell_type": "code",
   "execution_count": null,
   "metadata": {},
   "outputs": [],
   "source": []
  },
  {
   "cell_type": "code",
   "execution_count": 40,
   "metadata": {},
   "outputs": [
    {
     "name": "stdout",
     "output_type": "stream",
     "text": [
      "0.9.0\n"
     ]
    }
   ],
   "source": [
    "# pip install -U imbalanced-learn\n",
    "# check version number\n",
    "import imblearn\n",
    "print(imblearn.__version__)"
   ]
  },
  {
   "cell_type": "code",
   "execution_count": 41,
   "metadata": {},
   "outputs": [
    {
     "name": "stdout",
     "output_type": "stream",
     "text": [
      "Class = 0, n = 1767 (51.010%)\n",
      "Class = 1, n = 1070 (30.889%)\n",
      "Class = 3, n = 209 (6.033%)\n",
      "Class = 2, n = 418 (12.067%)\n"
     ]
    },
    {
     "data": {
      "image/png": "[encoded data removed]",
      "text/plain": [
       "<Figure size 432x288 with 1 Axes>"
      ]
     },
     "metadata": {
      "needs_background": "light"
     },
     "output_type": "display_data"
    }
   ],
   "source": [
    "# load and summarize the dataset\n",
    "from collections import Counter\n",
    "from matplotlib import pyplot\n",
    "from sklearn.preprocessing import LabelEncoder\n",
    "\n",
    "data = train.to_numpy()\n",
    "# split into input and output elements\n",
    "X, y = data[:, :-1], data[:, -1]\n",
    "# label encode the target variable\n",
    "y = LabelEncoder().fit_transform(y)\n",
    "# summarize distribution\n",
    "counter = Counter(y)\n",
    "for k,v in counter.items():\n",
    "    per = v / len(y) * 100\n",
    "    print(\"Class = %d, n = %d (%.3f%%)\" % (k, v, per))\n",
    "# plot the distribution\n",
    "pyplot.bar(counter.keys(), counter.values())\n",
    "pyplot.show()"
   ]
  },
  {
   "cell_type": "code",
   "execution_count": 42,
   "metadata": {},
   "outputs": [
    {
     "name": "stdout",
     "output_type": "stream",
     "text": [
      "Class = 0, n = 1767 (25.000%)\n",
      "Class = 1, n = 1767 (25.000%)\n",
      "Class = 3, n = 1767 (25.000%)\n",
      "Class = 2, n = 1767 (25.000%)\n"
     ]
    },
    {
     "data": {
      "image/png": "[encoded data removed]",
      "text/plain": [
       "<Figure size 432x288 with 1 Axes>"
      ]
     },
     "metadata": {
      "needs_background": "light"
     },
     "output_type": "display_data"
    }
   ],
   "source": [
    "# example of oversampling a multi-class classification dataset\n",
    "from imblearn.over_sampling import BorderlineSMOTE\n",
    "from collections import Counter\n",
    "from matplotlib import pyplot\n",
    "from sklearn.preprocessing import LabelEncoder\n",
    "from numpy import where\n",
    "\n",
    "data = train.to_numpy()\n",
    "# split into input and output elements\n",
    "X, y = data[:, :-1], data[:, -1]\n",
    "# label encode the target variable\n",
    "y = LabelEncoder().fit_transform(y)\n",
    "# transform the dataset\n",
    "oversample = BorderlineSMOTE() # synthetic minority oversampling technique\n",
    "X, y = oversample.fit_resample(X, y)\n",
    "# summarize distribution\n",
    "counter = Counter(y)\n",
    "for k,v in counter.items():\n",
    "    per = v / len(y) * 100\n",
    "    print('Class = %d, n = %d (%.3f%%)' % (k, v, per))\n",
    "# plot the distribution\n",
    "pyplot.bar(counter.keys(), counter.values())\n",
    "pyplot.show()"
   ]
  },
  {
   "cell_type": "code",
   "execution_count": 45,
   "metadata": {},
   "outputs": [],
   "source": [
    "X = pd.DataFrame(X)\n",
    "X[\"29\"] = y\n",
    "X.head()"
   ]
  },
  {
   "cell_type": "code",
   "execution_count": 49,
   "metadata": {},
   "outputs": [
    {
     "name": "stdout",
     "output_type": "stream",
     "text": [
      "Mean Accuracy: 0.822 (0.012)\n"
     ]
    }
   ],
   "source": [
    "# cost sensitive random forest with default class weights\n",
    "from numpy import mean\n",
    "from numpy import std\n",
    "from pandas import read_csv\n",
    "from sklearn.preprocessing import LabelEncoder\n",
    "from sklearn.model_selection import cross_val_score\n",
    "from sklearn.model_selection import RepeatedStratifiedKFold\n",
    "from sklearn.ensemble import RandomForestClassifier\n",
    "\n",
    "# evaluate a model\n",
    "def evaluate_model(X, y, model):\n",
    "\t# define evaluation procedure\n",
    "\tcv = RepeatedStratifiedKFold(n_splits=5, n_repeats=3, random_state=1)\n",
    "\t# evaluate model\n",
    "\tscores = cross_val_score(model, X, y, scoring='accuracy', cv=cv, n_jobs=-1)\n",
    "\treturn scores\n",
    " \n",
    "# define the location of the dataset\n",
    "# data = train.values\n",
    "# load the dataset\n",
    "X, y = data[:, :-1], data[:, -1]\n",
    "y = LabelEncoder().fit_transform(y)\n",
    "\n",
    "# define the reference model\n",
    "model = RandomForestClassifier(n_estimators=1000, class_weight='balanced')\n",
    "# evaluate the model\n",
    "scores = evaluate_model(X, y, model)\n",
    "# summarize performance\n",
    "print('Mean Accuracy: %.3f (%.3f)' % (mean(scores), std(scores)))"
   ]
  },
  {
   "cell_type": "code",
   "execution_count": 50,
   "metadata": {},
   "outputs": [],
   "source": [
    "data = test.to_numpy()\n",
    "X_test = data"
   ]
  },
  {
   "cell_type": "code",
   "execution_count": 51,
   "metadata": {},
   "outputs": [],
   "source": [
    "model.fit(X, y)\n",
    "y_pred = model.predict(X_test)"
   ]
  },
  {
   "cell_type": "code",
   "execution_count": 52,
   "metadata": {},
   "outputs": [],
   "source": [
    "submission[\"duration\"] = y_pred"
   ]
  },
  {
   "cell_type": "code",
   "execution_count": 53,
   "metadata": {},
   "outputs": [
    {
     "data": {
      "text/html": [
       "<div>\n",
       "<style scoped>\n",
       "    .dataframe tbody tr th:only-of-type {\n",
       "        vertical-align: middle;\n",
       "    }\n",
       "\n",
       "    .dataframe tbody tr th {\n",
       "        vertical-align: top;\n",
       "    }\n",
       "\n",
       "    .dataframe thead th {\n",
       "        text-align: right;\n",
       "    }\n",
       "</style>\n",
       "<table border=\"1\" class=\"dataframe\">\n",
       "  <thead>\n",
       "    <tr style=\"text-align: right;\">\n",
       "      <th></th>\n",
       "      <th>ID</th>\n",
       "      <th>duration</th>\n",
       "    </tr>\n",
       "  </thead>\n",
       "  <tbody>\n",
       "    <tr>\n",
       "      <th>0</th>\n",
       "      <td>2439</td>\n",
       "      <td>1</td>\n",
       "    </tr>\n",
       "    <tr>\n",
       "      <th>1</th>\n",
       "      <td>1213</td>\n",
       "      <td>1</td>\n",
       "    </tr>\n",
       "    <tr>\n",
       "      <th>2</th>\n",
       "      <td>2659</td>\n",
       "      <td>1</td>\n",
       "    </tr>\n",
       "    <tr>\n",
       "      <th>3</th>\n",
       "      <td>17</td>\n",
       "      <td>1</td>\n",
       "    </tr>\n",
       "    <tr>\n",
       "      <th>4</th>\n",
       "      <td>3800</td>\n",
       "      <td>0</td>\n",
       "    </tr>\n",
       "    <tr>\n",
       "      <th>...</th>\n",
       "      <td>...</td>\n",
       "      <td>...</td>\n",
       "    </tr>\n",
       "    <tr>\n",
       "      <th>862</th>\n",
       "      <td>416</td>\n",
       "      <td>0</td>\n",
       "    </tr>\n",
       "    <tr>\n",
       "      <th>863</th>\n",
       "      <td>1612</td>\n",
       "      <td>2</td>\n",
       "    </tr>\n",
       "    <tr>\n",
       "      <th>864</th>\n",
       "      <td>2475</td>\n",
       "      <td>2</td>\n",
       "    </tr>\n",
       "    <tr>\n",
       "      <th>865</th>\n",
       "      <td>227</td>\n",
       "      <td>0</td>\n",
       "    </tr>\n",
       "    <tr>\n",
       "      <th>866</th>\n",
       "      <td>2922</td>\n",
       "      <td>2</td>\n",
       "    </tr>\n",
       "  </tbody>\n",
       "</table>\n",
       "<p>867 rows × 2 columns</p>\n",
       "</div>"
      ],
      "text/plain": [
       "       ID  duration\n",
       "0    2439         1\n",
       "1    1213         1\n",
       "2    2659         1\n",
       "3      17         1\n",
       "4    3800         0\n",
       "..    ...       ...\n",
       "862   416         0\n",
       "863  1612         2\n",
       "864  2475         2\n",
       "865   227         0\n",
       "866  2922         2\n",
       "\n",
       "[867 rows x 2 columns]"
      ]
     },
     "execution_count": 53,
     "metadata": {},
     "output_type": "execute_result"
    }
   ],
   "source": [
    "submission"
   ]
  },
  {
   "cell_type": "code",
   "execution_count": 54,
   "metadata": {},
   "outputs": [],
   "source": [
    "submission.to_csv(\"submission.csv\", index = None)"
   ]
  }
 ],
 "metadata": {
  "kernelspec": {
   "display_name": "Python 3",
   "language": "python",
   "name": "python3"
  },
  "language_info": {
   "codemirror_mode": {
    "name": "ipython",
    "version": 3
   },
   "file_extension": ".py",
   "mimetype": "text/x-python",
   "name": "python",
   "nbconvert_exporter": "python",
   "pygments_lexer": "ipython3",
   "version": "3.8.3"
  }
 },
 "nbformat": 4,
 "nbformat_minor": 4
}
